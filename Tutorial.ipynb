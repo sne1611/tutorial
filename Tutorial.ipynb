{
  "nbformat": 4,
  "nbformat_minor": 0,
  "metadata": {
    "colab": {
      "provenance": [],
      "authorship_tag": "ABX9TyN5/oteyllllhCVi7u0LTUV",
      "include_colab_link": true
    },
    "kernelspec": {
      "name": "python3",
      "display_name": "Python 3"
    },
    "language_info": {
      "name": "python"
    }
  },
  "cells": [
    {
      "cell_type": "markdown",
      "metadata": {
        "id": "view-in-github",
        "colab_type": "text"
      },
      "source": [
        "<a href=\"https://colab.research.google.com/github/sne1611/tutorial/blob/main/Tutorial.ipynb\" target=\"_parent\"><img src=\"https://colab.research.google.com/assets/colab-badge.svg\" alt=\"Open In Colab\"/></a>"
      ]
    },
    {
      "cell_type": "code",
      "metadata": {
        "colab": {
          "base_uri": "https://localhost:8080/"
        },
        "id": "RAMVdeAPmfmM",
        "outputId": "b52e7576-eb9b-40c5-d5e5-ef034dd22e2d"
      },
      "source": [
        "# two ways to reverse the list or array\n",
        "# using [::-1]\n",
        "# and using reverse()\n",
        "\n",
        "ListToReverse = [1,2,4,3,7,5]\n",
        "R = ListToReverse[::-1]\n",
        "print (R)\n",
        "\n",
        "\n",
        "ListToRev = [9,89,2,4,13,7,5]\n",
        "ListToRev.reverse()\n",
        "print (ListToRev)"
      ],
      "execution_count": null,
      "outputs": [
        {
          "output_type": "stream",
          "name": "stdout",
          "text": [
            "[5, 7, 3, 4, 2, 1]\n",
            "[5, 7, 13, 4, 2, 89, 9]\n"
          ]
        }
      ]
    },
    {
      "cell_type": "code",
      "source": [],
      "metadata": {
        "id": "3Pk7mWaTn39x"
      },
      "execution_count": null,
      "outputs": []
    },
    {
      "cell_type": "code",
      "metadata": {
        "id": "-A11BTHwRVVe"
      },
      "source": [
        "# use of    all\n",
        "# use of    sort()\n",
        "# use of    round()\n",
        "# use of    bin() oct() hex()\n",
        "# use of    items()          -   prints all the elements of dictionary\n",
        "\n",
        "def printPrime():\n",
        "  for num in range (100,200):\n",
        "    if all(num % i != 0 for i in range(2,num)):\n",
        "      print(num, end = ',')\n",
        "printPrime()\n",
        "\n",
        "print(end='\\n')\n",
        "print('#############################################################################')\n",
        "print(end='\\n')\n",
        "\n",
        "#  sort()\n",
        "\n",
        "listToSort = ['a','bb','dddd','ccc']\n",
        "listToSort.sort()\n",
        "print(listToSort)\n",
        "\n",
        "print(end='\\n')\n",
        "print('#############################################################################')\n",
        "print(end='\\n')\n",
        "\n",
        "# round()\n",
        "\n",
        "def to_round_of(num):\n",
        "    result = round(num,3)\n",
        "    # return result\n",
        "    print (result)\n",
        "\n",
        "to_round_of(2.45677)\n",
        "\n",
        "print(end='\\n')\n",
        "print('#############################################################################')\n",
        "print(end='\\n')\n",
        "\n",
        "# bin() similarily we can apply oct(), hex()\n",
        "\n",
        "def convert(num):\n",
        "   base2_num = bin(num)\n",
        "   # return base2_num\n",
        "   print(base2_num)\n",
        "\n",
        "convert(5)\n",
        "\n",
        "print(end='\\n')\n",
        "print('#############################################################################')\n",
        "print(end='\\n')\n",
        "\n",
        "# items ()  printing all the elements of dictionary\n",
        "\n",
        "person2 = {'name':'sss', 'city1':'bhilai', 'phno1':8788900}\n",
        "for i in person2.items():\n",
        "    print(i)"
      ],
      "execution_count": null,
      "outputs": []
    },
    {
      "cell_type": "code",
      "metadata": {
        "id": "TSJbgXbk-2DQ"
      },
      "source": [
        "# list & dictionary comprehention\n",
        "# its a way of transforming the list or dictionary\n",
        "\n",
        "lst = [1,3,6,7,8,9,22]\n",
        "\n",
        "lst_comp = [x*2 for x in lst]\n",
        "print(lst_comp)\n",
        "\n",
        "# dict comprehension\n",
        "\n",
        "dict_comp = { x:x**2 for x in lst}\n",
        "print(dict_comp)"
      ],
      "execution_count": null,
      "outputs": []
    },
    {
      "cell_type": "code",
      "metadata": {
        "id": "3WMr8qqh-4NW"
      },
      "source": [
        "# lambda is an annonymus function that can take multiple argument\n",
        "\n",
        "mul = lambda a,b : a*b\n",
        "print(mul(2,3))"
      ],
      "execution_count": null,
      "outputs": []
    },
    {
      "cell_type": "code",
      "metadata": {
        "id": "T4z5fX1C_Fv2",
        "outputId": "28cc0912-dec2-458e-a253-0d412736e9ad",
        "colab": {
          "base_uri": "https://localhost:8080/"
        }
      },
      "source": [
        "#  *args      is used when we dont know how many arguments can be passed to the fumction\n",
        "#  **args     is used when we dont know how many arguments can be passed to the fumction\n",
        "#             and this will give the result with key\n",
        "\n",
        "def func(*var):\n",
        "   for i in var:\n",
        "       print(i)\n",
        "\n",
        "func(1)\n",
        "func(20,1,6)\n",
        "\n",
        "# another example\n",
        "\n",
        "def person3(name, *data):\n",
        "  print(name)\n",
        "  print(data)\n",
        "\n",
        "person3('sss', 'raipur', 8788900)\n",
        "\n",
        "print(end='\\n')\n",
        "print('#############################################################################')\n",
        "print(end='\\n')\n",
        "\n",
        "def person(name, **data):\n",
        "  print(name)\n",
        "  print(data)\n",
        "\n",
        "person('sss', city1='raipur', phno1=8788900)\n",
        "\n",
        "# another way\n",
        "\n",
        "def person1(name, **data1):\n",
        "  print(name)\n",
        "  for i,j in data1.items():\n",
        "    print(i,j)\n",
        "\n",
        "person1('sss', city1='bhilai', phno1=8788900)"
      ],
      "execution_count": null,
      "outputs": [
        {
          "output_type": "stream",
          "name": "stdout",
          "text": [
            "1\n",
            "20\n",
            "1\n",
            "6\n",
            "sss\n",
            "('raipur', 8788900)\n",
            "\n",
            "#############################################################################\n",
            "\n",
            "sss\n",
            "{'city1': 'raipur', 'phno1': 8788900}\n",
            "sss\n",
            "city1 bhilai\n",
            "phno1 8788900\n"
          ]
        }
      ]
    },
    {
      "cell_type": "code",
      "metadata": {
        "id": "5erzOvKOAfRM"
      },
      "source": [
        "# types of function\n",
        "\n",
        "# 1 instance function\n",
        "\n",
        "class student:\n",
        "\n",
        "  school = 'csvtu'   # its static variable defined outside the init method\n",
        "\n",
        "  def __init__(self,m1,m2,m3):\n",
        "    self.m1 = m1\n",
        "    self.m2 = m2\n",
        "    self.m3 = m3\n",
        "\n",
        "  def avg(self):      # its instance function\n",
        "    return (self.m1 + self.m2 +self.m3)/3\n",
        "\n",
        "s1 = student(45,78,65)\n",
        "s2 = student(35,98,98)\n",
        "\n",
        "print(s1.avg())\n",
        "print(s2.avg())"
      ],
      "execution_count": null,
      "outputs": []
    },
    {
      "cell_type": "code",
      "metadata": {
        "id": "GGTl14OTAgSL"
      },
      "source": [
        "# types of function\n",
        "\n",
        "# 2 class function\n",
        "\n",
        "# class functions are used to work with the class variables\n",
        "# e.g here if we change the name of the school it shd be changed for all the instances of the class\n",
        "\n",
        "class student:\n",
        "\n",
        "  school = 'csvtu'   # its static variable defined outside the init method\n",
        "\n",
        "  def __init__(self,m1,m2,m3):\n",
        "    self.m1 = m1\n",
        "    self.m2 = m2\n",
        "    self.m3 = m3\n",
        "\n",
        "  def avg(self):      # its instance function\n",
        "    return (self.m1 + self.m2 +self.m3)/3\n",
        "\n",
        "  @classmethod        # to make the class method we use @classmethod decorator\n",
        "  def get_school(cls):      # since we hv to work with the class variable here, we pass self instead of self\n",
        "    return cls.school\n",
        "\n",
        "\n",
        "s1 = student(45,78,65)\n",
        "s2 = student(35,98,98)\n",
        "\n",
        "print(s1.avg())\n",
        "print(s2.avg())\n",
        "\n",
        "print(student.get_school())"
      ],
      "execution_count": null,
      "outputs": []
    },
    {
      "cell_type": "code",
      "metadata": {
        "id": "hhdRcGjeAmE0"
      },
      "source": [
        "# types of function\n",
        "\n",
        "# 3 static function\n",
        "\n",
        "#\n",
        "\n",
        "\n",
        "class student:\n",
        "\n",
        "  school = 'csvtu'   # its static variable defined outside the init method\n",
        "\n",
        "  def __init__(self,m1,m2,m3):\n",
        "    self.m1 = m1\n",
        "    self.m2 = m2\n",
        "    self.m3 = m3\n",
        "\n",
        "  def avg(self):      # its instance function\n",
        "    return (self.m1 + self.m2 +self.m3)/3\n",
        "\n",
        "  @classmethod        # to make the class method we use @classmethod decorator\n",
        "  def get_school(cls):      # since we hv to work with the class variable here, we pass self instead of self\n",
        "    return cls.school\n",
        "\n",
        "  @staticmethod\n",
        "  def info():         # this method has nothing to do with either class var or instance var therefore we hv not passed self or cls\n",
        "    print('this is class student')\n",
        "\n",
        "s1 = student(45,78,65)\n",
        "s2 = student(35,98,98)\n",
        "\n",
        "print(s1.avg())\n",
        "print(s2.avg())\n",
        "\n",
        "print(student.get_school())"
      ],
      "execution_count": null,
      "outputs": []
    },
    {
      "cell_type": "code",
      "metadata": {
        "id": "fqXzzAKZBzd6"
      },
      "source": [
        "#  slicing\n",
        "\n",
        "from array import *\n",
        "arr = array('i',[11,22,33,44,5,66,77,45,34,23])"
      ],
      "execution_count": null,
      "outputs": []
    },
    {
      "cell_type": "code",
      "metadata": {
        "colab": {
          "base_uri": "https://localhost:8080/"
        },
        "id": "oqGqTE1Sybvf",
        "outputId": "245b1db1-39be-4dfa-f399-e38ed23f81b7"
      },
      "source": [
        "#     sum(), count(), index(), min() and max() functions of List\n",
        "\n",
        "numbers = [1, 2, 3, 4, 1, 3, 6, 8, 3]\n",
        "print(sum(numbers))\n",
        "\n",
        "print(numbers.count(4))\n",
        "\n",
        "print(numbers.index(4))\n",
        "\n",
        "print(min(numbers))\n",
        "\n",
        "print(len(numbers))"
      ],
      "execution_count": null,
      "outputs": [
        {
          "output_type": "stream",
          "name": "stdout",
          "text": [
            "31\n",
            "1\n",
            "3\n",
            "1\n",
            "9\n"
          ]
        }
      ]
    },
    {
      "cell_type": "code",
      "metadata": {
        "colab": {
          "base_uri": "https://localhost:8080/"
        },
        "id": "cy3SFUZEc2WI",
        "outputId": "97fcd07f-ae02-4dd3-80a8-3cbf3c838b22"
      },
      "source": [
        "#   global & globals()\n",
        "\n",
        "global a\n",
        "a = 10\n",
        "\n",
        "def l_var():\n",
        "  a = 15\n",
        "  print(\"local var\",a)\n",
        "\n",
        "l_var()\n",
        "\n",
        "def g_var():\n",
        "  # global a\n",
        "  a = 15\n",
        "  print(\"local var\",a)\n",
        "\n",
        "g_var()\n",
        "\n",
        "print(a)"
      ],
      "execution_count": null,
      "outputs": [
        {
          "output_type": "stream",
          "name": "stdout",
          "text": [
            "local var 15\n",
            "local var 15\n",
            "10\n"
          ]
        }
      ]
    },
    {
      "cell_type": "code",
      "metadata": {
        "id": "vRdw4IImkaIl"
      },
      "source": [
        "#   serializer\n",
        "\n",
        "#   JSON   :    python has built in package called \"JSON\" that works with the JSON data\n",
        "\n",
        "#   dumps(data)  :  converts python objects into JSON string\n",
        "\n",
        "#   loads(data)  : used to parse JSON string  i.e. reverse of dumps\n",
        "\n",
        "#   serializers converts complex data such as queryset models into python data that can be understtod by front-end\n",
        "#   deserialization   reverse of serialization\n",
        "\n",
        "\n",
        "\n",
        "#   cache :  it provides temporary storage of web document to reduce the server lag and makes the website faster\n",
        "#   per-site cache (when we cache the entire site)\n",
        "#   per-view cache (it cache the output of individual view)\n",
        "#   template fragment cache ( this gives u more control about what to cache)\n",
        "\n",
        "\n",
        "\n",
        "#   model inheritance  :  model subclass should be inherited from the django..db.models.Model\n",
        "#                         1. abstract base classes\n",
        "#                         2. multi table inheritance\n",
        "#                         3. proxy inheritance\n",
        "\n",
        "\n",
        "#   signals   :     allows to associate events with actions.\n",
        "\n",
        "\n",
        "#   authentication  :  django provides both authentication and authorization both & together it referred to as authentication system\n",
        "#                      its already there in settings.py  in INSTALLED APP\n",
        "#                       django.contrib.auth\n",
        "#                       django.contrib.contenttypes"
      ],
      "execution_count": null,
      "outputs": []
    },
    {
      "cell_type": "code",
      "metadata": {
        "colab": {
          "base_uri": "https://localhost:8080/"
        },
        "id": "1L3kUYVdLi_R",
        "outputId": "00c22f84-35dc-4a91-d950-49b245d192a3"
      },
      "source": [
        "#  counter in python\n",
        "\n",
        "# finding common characters\n",
        "\n",
        "# counter function counts each element of the list\n",
        "\n",
        "import collections\n",
        "\n",
        "def match(lst):\n",
        "  result = collections.Counter(lst[0])\n",
        "  for i in lst:\n",
        "    result &= collections.Counter(i)\n",
        "  return list(result.elements())\n",
        "\n",
        "lst = ['mango', 'appleo','pinappleo','bananao']\n",
        "match(lst)"
      ],
      "execution_count": null,
      "outputs": [
        {
          "output_type": "execute_result",
          "data": {
            "text/plain": [
              "['a', 'o']"
            ]
          },
          "metadata": {},
          "execution_count": 1
        }
      ]
    },
    {
      "cell_type": "code",
      "source": [
        "############################    21 dec 2022    ############################"
      ],
      "metadata": {
        "id": "5DSRPsfM9FET"
      },
      "execution_count": null,
      "outputs": []
    },
    {
      "cell_type": "code",
      "source": [
        "import pandas as pd"
      ],
      "metadata": {
        "id": "beqn-Z7j9OkL"
      },
      "execution_count": null,
      "outputs": []
    },
    {
      "cell_type": "code",
      "source": [
        "dict1 = {'x':1,'y':2,'z':5}"
      ],
      "metadata": {
        "id": "5rru8Js395_A"
      },
      "execution_count": null,
      "outputs": []
    },
    {
      "cell_type": "code",
      "source": [
        "a=5\n",
        "b= 5.6\n",
        "c=a+b\n",
        "print (type(b))"
      ],
      "metadata": {
        "id": "OEtliMLx-0Is",
        "colab": {
          "base_uri": "https://localhost:8080/"
        },
        "outputId": "0a16b8ab-514e-4e4a-ffe0-01cad1b45654"
      },
      "execution_count": null,
      "outputs": [
        {
          "output_type": "stream",
          "name": "stdout",
          "text": [
            "<class 'float'>\n"
          ]
        }
      ]
    },
    {
      "cell_type": "code",
      "source": [
        "def dec_check(func):\n",
        "    def inner(a,b):\n",
        "        if a>=b:\n",
        "            result = func(a,b)\n",
        "            return result\n",
        "        else:\n",
        "            a,b = b,a\n",
        "            print(\"using decorator\")\n",
        "            result = func(a,b)\n",
        "            return result\n",
        "    return inner\n",
        "\n",
        "@dec_check\n",
        "def div(a,b):\n",
        "    return a/b\n",
        "\n",
        "result = div(4,16)\n",
        "print(result)"
      ],
      "metadata": {
        "colab": {
          "base_uri": "https://localhost:8080/"
        },
        "id": "kXfuDKyp8igk",
        "outputId": "85f9ad36-b5ac-44c1-a49f-4e8c3ad77817"
      },
      "execution_count": 1,
      "outputs": [
        {
          "output_type": "stream",
          "name": "stdout",
          "text": [
            "using decorator\n",
            "4.0\n"
          ]
        }
      ]
    }
  ]
}